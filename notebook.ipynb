{
 "cells": [
  {
   "cell_type": "markdown",
   "metadata": {},
   "source": [
    "# Recognizing Persian Digits"
   ]
  },
  {
   "cell_type": "code",
   "execution_count": 1,
   "metadata": {},
   "outputs": [],
   "source": [
    "from __future__ import print_function\n",
    "import matplotlib.pyplot as plt\n",
    "import numpy as np\n",
    "import os\n",
    "import sys\n",
    "import tarfile\n",
    "import random\n",
    "import utils\n",
    "from PIL import Image\n",
    "from IPython.display import display\n",
    "from scipy import ndimage\n",
    "from sklearn.linear_model import LogisticRegression\n",
    "from six.moves.urllib.request import urlretrieve\n",
    "from six.moves import cPickle as pickle\n",
    "%matplotlib inline"
   ]
  },
  {
   "cell_type": "code",
   "execution_count": 2,
   "metadata": {},
   "outputs": [],
   "source": [
    "root = './data/Digits/isolated digits/'\n",
    "binary_save_path = './binary_data/isolated digits/'"
   ]
  },
  {
   "cell_type": "markdown",
   "metadata": {},
   "source": [
    "## Contents\n",
    "* Loading and Preprocessing Data"
   ]
  },
  {
   "cell_type": "markdown",
   "metadata": {},
   "source": [
    "## Loading and Preprocessing Data"
   ]
  },
  {
   "cell_type": "markdown",
   "metadata": {},
   "source": [
    "First we will load and normalize data, then we resize all of the images in (28,28) size and save it to binary .npy file :"
   ]
  },
  {
   "cell_type": "code",
   "execution_count": 3,
   "metadata": {},
   "outputs": [
    {
     "name": "stdout",
     "output_type": "stream",
     "text": [
      "Pickling ./binary_data/isolated digits/0.npy.\n",
      "Full dataset tensor: (975, 28, 28)\n",
      "Mean: 0.361884\n",
      "Standard deviation: 0.215794\n",
      "Pickling ./binary_data/isolated digits/1.npy.\n",
      "Full dataset tensor: (942, 28, 28)\n",
      "Mean: 0.367198\n",
      "Standard deviation: 0.221057\n",
      "Pickling ./binary_data/isolated digits/2.npy.\n",
      "Full dataset tensor: (990, 28, 28)\n",
      "Mean: 0.399705\n",
      "Standard deviation: 0.201636\n",
      "Pickling ./binary_data/isolated digits/3.npy.\n",
      "Full dataset tensor: (945, 28, 28)\n",
      "Mean: 0.407029\n",
      "Standard deviation: 0.192823\n",
      "Pickling ./binary_data/isolated digits/4.npy.\n",
      "Full dataset tensor: (958, 28, 28)\n",
      "Mean: 0.405774\n",
      "Standard deviation: 0.192035\n",
      "Pickling ./binary_data/isolated digits/5.npy.\n",
      "Full dataset tensor: (994, 28, 28)\n",
      "Mean: 0.383274\n",
      "Standard deviation: 0.204772\n",
      "Pickling ./binary_data/isolated digits/6.npy.\n",
      "Full dataset tensor: (962, 28, 28)\n",
      "Mean: 0.409592\n",
      "Standard deviation: 0.188186\n",
      "Pickling ./binary_data/isolated digits/7.npy.\n",
      "Full dataset tensor: (956, 28, 28)\n",
      "Mean: 0.40967\n",
      "Standard deviation: 0.189994\n",
      "Pickling ./binary_data/isolated digits/8.npy.\n",
      "Full dataset tensor: (982, 28, 28)\n",
      "Mean: 0.40707\n",
      "Standard deviation: 0.191865\n",
      "Pickling ./binary_data/isolated digits/9.npy.\n",
      "Full dataset tensor: (949, 28, 28)\n",
      "Mean: 0.399974\n",
      "Standard deviation: 0.196642\n"
     ]
    }
   ],
   "source": [
    "data_paths = utils.maybe_save(root,binary_save_path)"
   ]
  },
  {
   "cell_type": "markdown",
   "metadata": {},
   "source": [
    "Checking if data is Balanced across diffrent classes : "
   ]
  },
  {
   "cell_type": "code",
   "execution_count": 4,
   "metadata": {},
   "outputs": [
    {
     "name": "stdout",
     "output_type": "stream",
     "text": [
      "number of images in ./binary_data/isolated digits/0.npy is equal to 975\n",
      "number of images in ./binary_data/isolated digits/1.npy is equal to 942\n",
      "number of images in ./binary_data/isolated digits/2.npy is equal to 990\n",
      "number of images in ./binary_data/isolated digits/3.npy is equal to 945\n",
      "number of images in ./binary_data/isolated digits/4.npy is equal to 958\n",
      "number of images in ./binary_data/isolated digits/5.npy is equal to 994\n",
      "number of images in ./binary_data/isolated digits/6.npy is equal to 962\n",
      "number of images in ./binary_data/isolated digits/7.npy is equal to 956\n",
      "number of images in ./binary_data/isolated digits/8.npy is equal to 982\n",
      "number of images in ./binary_data/isolated digits/9.npy is equal to 949\n"
     ]
    }
   ],
   "source": [
    "def balancingCheck(data_folder) :\n",
    "    tmpList = None\n",
    "    for i,ds in enumerate(data_folder) :\n",
    "        dataset = np.load(ds)\n",
    "        print(\"number of images in %s is equal to %s\" % (ds,len(dataset)))\n",
    "balancingCheck(data_paths)"
   ]
  },
  {
   "cell_type": "markdown",
   "metadata": {},
   "source": [
    "As you see data is almost balanced over diffrent classes."
   ]
  },
  {
   "cell_type": "markdown",
   "metadata": {},
   "source": [
    "Merging and Creating Label for datasets :"
   ]
  },
  {
   "cell_type": "code",
   "execution_count": 20,
   "metadata": {},
   "outputs": [],
   "source": [
    "def merge_datasets(data_paths) :    \n",
    "    data = np.concatenate([np.load(path) for path in data_paths],axis=0)\n",
    "    label = np.concatenate([[path[-5]]*len(np.load(path)) for i,path in enumerate(data_paths)])\n",
    "    return data,label\n",
    "data,labels = merge_datasets(data_paths)"
   ]
  },
  {
   "cell_type": "markdown",
   "metadata": {},
   "source": [
    "We should shuffle data for cnn trainer :"
   ]
  },
  {
   "cell_type": "code",
   "execution_count": 21,
   "metadata": {},
   "outputs": [],
   "source": [
    "def randomize(dataset, labels):\n",
    "    permutation = np.random.permutation(labels.shape[0])\n",
    "    shuffled_dataset = dataset[permutation,:,:]\n",
    "    shuffled_labels = labels[permutation]\n",
    "    return shuffled_dataset, shuffled_labels\n",
    "data,labels = merge_datasets(data_paths)"
   ]
  },
  {
   "cell_type": "markdown",
   "metadata": {},
   "source": [
    "We want to make sure that data still looks good :"
   ]
  },
  {
   "cell_type": "code",
   "execution_count": 22,
   "metadata": {},
   "outputs": [
    {
     "data": {
      "image/png": "[encoded data removed]",
      "text/plain": [
       "<matplotlib.figure.Figure at 0x27925d88940>"
      ]
     },
     "metadata": {},
     "output_type": "display_data"
    }
   ],
   "source": [
    "def visualize(dataset,labels,size = 10) :\n",
    "    samples = np.random.randint(len(dataset),size=size)\n",
    "    for i,sample in enumerate(samples) :\n",
    "        plt.subplot(np.ceil(np.sqrt(size)),np.floor(np.sqrt(size)),1+i)\n",
    "        plt.axis('off')\n",
    "        plt.title(labels[sample])\n",
    "        plt.imshow(dataset[sample])\n",
    "visualize(data,labels,10)"
   ]
  },
  {
   "cell_type": "code",
   "execution_count": 24,
   "metadata": {},
   "outputs": [
    {
     "data": {
      "text/plain": [
       "(9653,)"
      ]
     },
     "execution_count": 24,
     "metadata": {},
     "output_type": "execute_result"
    }
   ],
   "source": [
    "labels[]"
   ]
  },
  {
   "cell_type": "code",
   "execution_count": null,
   "metadata": {},
   "outputs": [],
   "source": []
  }
 ],
 "metadata": {
  "kernelspec": {
   "display_name": "Python 3",
   "language": "python",
   "name": "python3"
  },
  "language_info": {
   "codemirror_mode": {
    "name": "ipython",
    "version": 3
   },
   "file_extension": ".py",
   "mimetype": "text/x-python",
   "name": "python",
   "nbconvert_exporter": "python",
   "pygments_lexer": "ipython3",
   "version": "3.6.4"
  }
 },
 "nbformat": 4,
 "nbformat_minor": 2
}
