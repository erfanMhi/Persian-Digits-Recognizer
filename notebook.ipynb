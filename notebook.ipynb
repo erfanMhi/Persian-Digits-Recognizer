{
 "cells": [
  {
   "cell_type": "markdown",
   "metadata": {},
   "source": [
    "# Recognizing Persian Digits"
   ]
  },
  {
   "cell_type": "code",
   "execution_count": 15,
   "metadata": {},
   "outputs": [],
   "source": [
    "import matplotlib.pyplot as plt\n",
    "import numpy as np\n",
    "import os\n",
    "import sys\n",
    "import tarfile\n",
    "import random\n",
    "import utils\n",
    "from PIL import Image\n",
    "from IPython.display import display\n",
    "from keras.layers import Dense\n",
    "from keras.layers import Conv2D\n",
    "from keras.layers import MaxPooling2D\n",
    "from keras.layers import AveragePooling2D\n",
    "from keras.layers import Flatten\n",
    "from keras.models import Sequential\n",
    "from keras.optimizers import Adam\n",
    "from scipy import ndimage\n",
    "from __future__ import print_function\n",
    "from sklearn.linear_model import LogisticRegression\n",
    "from six.moves.urllib.request import urlretrieve\n",
    "from six.moves import cPickle as pickle\n",
    "%matplotlib inline"
   ]
  },
  {
   "cell_type": "code",
   "execution_count": 16,
   "metadata": {},
   "outputs": [],
   "source": [
    "root = './data/Digits/isolated digits/'\n",
    "binary_save_path = './binary_data/isolated digits/'\n",
    "num_labels= 10\n",
    "image_size = 28"
   ]
  },
  {
   "cell_type": "markdown",
   "metadata": {},
   "source": [
    "## Contents\n",
    "* Loading and Preprocessing Data"
   ]
  },
  {
   "cell_type": "markdown",
   "metadata": {},
   "source": [
    "## Loading and Preprocessing Data"
   ]
  },
  {
   "cell_type": "markdown",
   "metadata": {},
   "source": [
    "First we will load and normalize data, then we resize all of the images in (28,28) size and save it to binary .npy file :"
   ]
  },
  {
   "cell_type": "code",
   "execution_count": 17,
   "metadata": {},
   "outputs": [
    {
     "name": "stdout",
     "output_type": "stream",
     "text": [
      "./binary_data/isolated digits/0.npy already present - Skipping pickling.\n",
      "./binary_data/isolated digits/1.npy already present - Skipping pickling.\n",
      "./binary_data/isolated digits/2.npy already present - Skipping pickling.\n",
      "./binary_data/isolated digits/3.npy already present - Skipping pickling.\n",
      "./binary_data/isolated digits/4.npy already present - Skipping pickling.\n",
      "./binary_data/isolated digits/5.npy already present - Skipping pickling.\n",
      "./binary_data/isolated digits/6.npy already present - Skipping pickling.\n",
      "./binary_data/isolated digits/7.npy already present - Skipping pickling.\n",
      "./binary_data/isolated digits/8.npy already present - Skipping pickling.\n",
      "./binary_data/isolated digits/9.npy already present - Skipping pickling.\n"
     ]
    }
   ],
   "source": [
    "data_paths = utils.maybe_save(root,binary_save_path,image_size)"
   ]
  },
  {
   "cell_type": "markdown",
   "metadata": {},
   "source": [
    "Checking if data is Balanced across diffrent classes : "
   ]
  },
  {
   "cell_type": "code",
   "execution_count": 18,
   "metadata": {},
   "outputs": [
    {
     "name": "stdout",
     "output_type": "stream",
     "text": [
      "number of images in ./binary_data/isolated digits/0.npy is equal to 975\n",
      "number of images in ./binary_data/isolated digits/1.npy is equal to 942\n",
      "number of images in ./binary_data/isolated digits/2.npy is equal to 990\n",
      "number of images in ./binary_data/isolated digits/3.npy is equal to 945\n",
      "number of images in ./binary_data/isolated digits/4.npy is equal to 958\n",
      "number of images in ./binary_data/isolated digits/5.npy is equal to 994\n",
      "number of images in ./binary_data/isolated digits/6.npy is equal to 962\n",
      "number of images in ./binary_data/isolated digits/7.npy is equal to 956\n",
      "number of images in ./binary_data/isolated digits/8.npy is equal to 982\n",
      "number of images in ./binary_data/isolated digits/9.npy is equal to 949\n"
     ]
    }
   ],
   "source": [
    "def balancingCheck(data_folder) :\n",
    "    tmpList = None\n",
    "    for i,ds in enumerate(data_folder) :\n",
    "        dataset = np.load(ds)\n",
    "        print(\"number of images in %s is equal to %s\" % (ds,len(dataset)))\n",
    "balancingCheck(data_paths)"
   ]
  },
  {
   "cell_type": "markdown",
   "metadata": {},
   "source": [
    "As you see data is almost balanced over diffrent classes."
   ]
  },
  {
   "cell_type": "markdown",
   "metadata": {},
   "source": [
    "Merging and Creating Label for datasets :"
   ]
  },
  {
   "cell_type": "code",
   "execution_count": 19,
   "metadata": {},
   "outputs": [],
   "source": [
    "def merge_datasets(data_paths) :    \n",
    "    data = np.concatenate([np.load(path) for path in data_paths],axis=0)\n",
    "    label = np.concatenate([[path[-5]]*len(np.load(path)) for i,path in enumerate(data_paths)])\n",
    "    return data,label\n",
    "data,labels = merge_datasets(data_paths)"
   ]
  },
  {
   "cell_type": "markdown",
   "metadata": {},
   "source": [
    "We should shuffle data for cnn trainer :"
   ]
  },
  {
   "cell_type": "code",
   "execution_count": 20,
   "metadata": {},
   "outputs": [],
   "source": [
    "def randomize(dataset, labels):\n",
    "    permutation = np.random.permutation(labels.shape[0])\n",
    "    shuffled_dataset = dataset[permutation,:,:]\n",
    "    shuffled_labels = labels[permutation]\n",
    "    return shuffled_dataset, shuffled_labels\n",
    "data,labels = randomize(data,labels)"
   ]
  },
  {
   "cell_type": "markdown",
   "metadata": {},
   "source": [
    "We want to make sure that data still looks good :"
   ]
  },
  {
   "cell_type": "code",
   "execution_count": 21,
   "metadata": {},
   "outputs": [
    {
     "data": {
      "image/png": "[encoded data removed]",
      "text/plain": [
       "<matplotlib.figure.Figure at 0x1d04c9bc2b0>"
      ]
     },
     "metadata": {},
     "output_type": "display_data"
    }
   ],
   "source": [
    "def visualize(dataset,labels,size = 10) :\n",
    "    samples = np.random.randint(len(dataset),size=size)\n",
    "    for i,sample in enumerate(samples) :\n",
    "        plt.subplot(np.ceil(np.sqrt(size)),np.floor(np.sqrt(size)),1+i)\n",
    "        plt.axis('off')\n",
    "        plt.title(labels[sample])\n",
    "        plt.imshow(dataset[sample])\n",
    "visualize(data,labels,10)"
   ]
  },
  {
   "cell_type": "code",
   "execution_count": 22,
   "metadata": {},
   "outputs": [],
   "source": [
    "def reformat(data,labels) :\n",
    "    data = np.array(data).reshape((-1,image_size,image_size,1)).astype(np.float32)\n",
    "    labels = (np.arange(num_labels) == labels[:].astype(np.float32))\n",
    "    return data,labels"
   ]
  },
  {
   "cell_type": "code",
   "execution_count": 23,
   "metadata": {},
   "outputs": [
    {
     "name": "stdout",
     "output_type": "stream",
     "text": [
      "shape of data : (9653, 28, 28, 1)\n"
     ]
    },
    {
     "name": "stderr",
     "output_type": "stream",
     "text": [
      "C:\\Program Files (x86)\\Microsoft Visual Studio\\Shared\\Anaconda3_64\\envs\\deeplearning\\lib\\site-packages\\ipykernel_launcher.py:3: DeprecationWarning: elementwise == comparison failed; this will raise an error in the future.\n",
      "  This is separate from the ipykernel package so we can avoid doing imports until\n"
     ]
    },
    {
     "ename": "AttributeError",
     "evalue": "'bool' object has no attribute 'shape'",
     "output_type": "error",
     "traceback": [
      "\u001b[1;31m---------------------------------------------------------------------------\u001b[0m",
      "\u001b[1;31mAttributeError\u001b[0m                            Traceback (most recent call last)",
      "\u001b[1;32m<ipython-input-23-650a82ac68d6>\u001b[0m in \u001b[0;36m<module>\u001b[1;34m()\u001b[0m\n\u001b[0;32m      1\u001b[0m \u001b[0mdata\u001b[0m\u001b[1;33m,\u001b[0m\u001b[0mlabels\u001b[0m \u001b[1;33m=\u001b[0m \u001b[0mreformat\u001b[0m\u001b[1;33m(\u001b[0m\u001b[0mdata\u001b[0m\u001b[1;33m,\u001b[0m\u001b[0mlabels\u001b[0m\u001b[1;33m)\u001b[0m\u001b[1;33m\u001b[0m\u001b[0m\n\u001b[0;32m      2\u001b[0m \u001b[0mprint\u001b[0m\u001b[1;33m(\u001b[0m\u001b[1;34m'shape of data : {}'\u001b[0m\u001b[1;33m.\u001b[0m\u001b[0mformat\u001b[0m\u001b[1;33m(\u001b[0m\u001b[0mdata\u001b[0m\u001b[1;33m.\u001b[0m\u001b[0mshape\u001b[0m\u001b[1;33m)\u001b[0m\u001b[1;33m)\u001b[0m\u001b[1;33m\u001b[0m\u001b[0m\n\u001b[1;32m----> 3\u001b[1;33m \u001b[0mprint\u001b[0m\u001b[1;33m(\u001b[0m\u001b[1;34m'shape of labels : {}'\u001b[0m\u001b[1;33m.\u001b[0m\u001b[0mformat\u001b[0m\u001b[1;33m(\u001b[0m\u001b[0mlabels\u001b[0m\u001b[1;33m.\u001b[0m\u001b[0mshape\u001b[0m\u001b[1;33m)\u001b[0m\u001b[1;33m)\u001b[0m\u001b[1;33m\u001b[0m\u001b[0m\n\u001b[0m",
      "\u001b[1;31mAttributeError\u001b[0m: 'bool' object has no attribute 'shape'"
     ]
    }
   ],
   "source": [
    "data,labels = reformat(data,labels)\n",
    "print('shape of data : {}'.format(data.shape))\n",
    "print('shape of labels : {}'.format(labels.shape))"
   ]
  },
  {
   "cell_type": "code",
   "execution_count": null,
   "metadata": {},
   "outputs": [],
   "source": [
    "def conv_model(input_shape) :\n",
    "    \n",
    "    model = Sequential()\n",
    "    model.add(Conv2D(16, 5, padding='same', activation='selu', input_shape=input_shape))\n",
    "    model.add(Conv2D(16, 5, padding='same', activation='selu'))\n",
    "    model.add(Conv2D(16, 5, padding='same', activation='selu'))\n",
    "    model.add(Conv2D(16, 5, padding='same', activation='selu'))\n",
    "    model.add(Conv2D(16, 5, padding='same', activation='selu'))\n",
    "    model.add(Conv2D(16, 5, padding='same', activation='selu'))\n",
    "    model.add(Conv2D(16, 5, padding='same', activation='selu'))\n",
    "    model.add(Conv2D(16, 5, padding='same', activation='selu'))\n",
    "    model.add(MaxPooling2D())\n",
    "\n",
    "    model.add(Conv2D(32, 3, padding='same', activation='selu'))\n",
    "    model.add(Conv2D(32, 3, padding='same', activation='selu'))\n",
    "    model.add(Conv2D(32, 3, padding='same', activation='selu'))\n",
    "    model.add(Conv2D(32, 3, padding='same', activation='selu'))\n",
    "    model.add(Conv2D(32, 3, padding='same', activation='selu'))\n",
    "    model.add(Conv2D(32, 3, padding='same', activation='selu'))\n",
    "    model.add(Conv2D(32, 3, padding='same', activation='selu'))\n",
    "    model.add(Conv2D(32, 3, padding='same', activation='selu'))\n",
    "    model.add(MaxPooling2D())\n",
    "\n",
    "    model.add(Conv2D(64, 3, padding='same', activation='selu'))\n",
    "    model.add(Conv2D(64, 3, padding='same', activation='selu'))\n",
    "    model.add(Conv2D(64, 3, padding='same', activation='selu'))\n",
    "    model.add(Conv2D(64, 3, padding='same', activation='selu'))\n",
    "    model.add(Conv2D(64, 3, padding='same', activation='selu'))\n",
    "    model.add(Conv2D(64, 3, padding='same', activation='selu'))\n",
    "    model.add(Conv2D(64, 3, padding='same', activation='selu'))\n",
    "    model.add(Conv2D(64, 3, padding='same', activation='selu'))\n",
    "    model.add(AveragePooling2D())\n",
    "\n",
    "    model.add(Flatten())\n",
    "\n",
    "    model.add(Dense(1024, activation='selu'))\n",
    "    model.add(Dense(1024, activation='selu'))\n",
    "    model.add(Dense(10, activation='softmax'))\n",
    "\n",
    "    model.compile(optimizer=Adam(lr=1e-4), loss='categorical_crossentropy', metrics=['accuracy'])\n",
    "    \n",
    "    return model\n",
    "conv_model((image_size,image_size,1))"
   ]
  }
 ],
 "metadata": {
  "kernelspec": {
   "display_name": "Python 3",
   "language": "python",
   "name": "python3"
  },
  "language_info": {
   "codemirror_mode": {
    "name": "ipython",
    "version": 3
   },
   "file_extension": ".py",
   "mimetype": "text/x-python",
   "name": "python",
   "nbconvert_exporter": "python",
   "pygments_lexer": "ipython3",
   "version": "3.6.4"
  }
 },
 "nbformat": 4,
 "nbformat_minor": 2
}
