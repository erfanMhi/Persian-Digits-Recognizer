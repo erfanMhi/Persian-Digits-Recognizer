{
 "cells": [
  {
   "cell_type": "markdown",
   "metadata": {},
   "source": [
    "# Recognizing Persian Digits"
   ]
  },
  {
   "cell_type": "code",
   "execution_count": 1,
   "metadata": {},
   "outputs": [],
   "source": [
    "from __future__ import print_function\n",
    "import matplotlib.pyplot as plt\n",
    "import numpy as np\n",
    "import os\n",
    "import sys\n",
    "import tarfile\n",
    "import random\n",
    "import utils\n",
    "from PIL import Image\n",
    "from IPython.display import display\n",
    "from scipy import ndimage\n",
    "from sklearn.linear_model import LogisticRegression\n",
    "from six.moves.urllib.request import urlretrieve\n",
    "from six.moves import cPickle as pickle\n",
    "%matplotlib inline"
   ]
  },
  {
   "cell_type": "code",
   "execution_count": 2,
   "metadata": {},
   "outputs": [],
   "source": [
    "root = './data/Digits/isolated digits/'"
   ]
  },
  {
   "cell_type": "markdown",
   "metadata": {},
   "source": [
    "## Contents\n",
    "* Loading and Preprocessing Data"
   ]
  },
  {
   "cell_type": "markdown",
   "metadata": {},
   "source": [
    "## Loading and Preprocessing Data"
   ]
  },
  {
   "cell_type": "markdown",
   "metadata": {},
   "source": [
    "First we will load and normalize data, then we resize all of the images in (28save it to binary .npy file :"
   ]
  },
  {
   "cell_type": "code",
   "execution_count": 3,
   "metadata": {},
   "outputs": [
    {
     "name": "stdout",
     "output_type": "stream",
     "text": [
      "Pickling ./data/Digits/isolated digits/0.npy.\n",
      "Full dataset tensor: (975, 28, 28)\n",
      "Mean: 0.371464\n",
      "Standard deviation: 0.206846\n",
      "Pickling ./data/Digits/isolated digits/1.npy.\n",
      "Full dataset tensor: (942, 28, 28)\n",
      "Mean: 0.357408\n",
      "Standard deviation: 0.240735\n",
      "Pickling ./data/Digits/isolated digits/2.npy.\n",
      "Full dataset tensor: (990, 28, 28)\n",
      "Mean: 0.373154\n",
      "Standard deviation: 0.226939\n",
      "Pickling ./data/Digits/isolated digits/3.npy.\n",
      "Full dataset tensor: (945, 28, 28)\n",
      "Mean: 0.38771\n",
      "Standard deviation: 0.208011\n",
      "Pickling ./data/Digits/isolated digits/4.npy.\n",
      "Full dataset tensor: (958, 28, 28)\n",
      "Mean: 0.40026\n",
      "Standard deviation: 0.192274\n",
      "Pickling ./data/Digits/isolated digits/5.npy.\n",
      "Full dataset tensor: (994, 28, 28)\n",
      "Mean: 0.373855\n",
      "Standard deviation: 0.20505\n",
      "Pickling ./data/Digits/isolated digits/6.npy.\n",
      "Full dataset tensor: (962, 28, 28)\n",
      "Mean: 0.40089\n",
      "Standard deviation: 0.195148\n",
      "Pickling ./data/Digits/isolated digits/7.npy.\n",
      "Full dataset tensor: (956, 28, 28)\n",
      "Mean: 0.389926\n",
      "Standard deviation: 0.216767\n",
      "Pickling ./data/Digits/isolated digits/8.npy.\n",
      "Full dataset tensor: (982, 28, 28)\n",
      "Mean: 0.402916\n",
      "Standard deviation: 0.196481\n",
      "Pickling ./data/Digits/isolated digits/9.npy.\n",
      "Full dataset tensor: (949, 28, 28)\n",
      "Mean: 0.39916\n",
      "Standard deviation: 0.200686\n",
      "['./data/Digits/isolated digits/0.npy', './data/Digits/isolated digits/1.npy', './data/Digits/isolated digits/2.npy', './data/Digits/isolated digits/3.npy', './data/Digits/isolated digits/4.npy', './data/Digits/isolated digits/5.npy', './data/Digits/isolated digits/6.npy', './data/Digits/isolated digits/7.npy', './data/Digits/isolated digits/8.npy', './data/Digits/isolated digits/9.npy']\n"
     ]
    }
   ],
   "source": [
    "print(utils.maybe_save(root,0))"
   ]
  },
  {
   "cell_type": "code",
   "execution_count": null,
   "metadata": {},
   "outputs": [],
   "source": []
  }
 ],
 "metadata": {
  "kernelspec": {
   "display_name": "Python 3",
   "language": "python",
   "name": "python3"
  },
  "language_info": {
   "codemirror_mode": {
    "name": "ipython",
    "version": 3
   },
   "file_extension": ".py",
   "mimetype": "text/x-python",
   "name": "python",
   "nbconvert_exporter": "python",
   "pygments_lexer": "ipython3",
   "version": "3.6.4"
  }
 },
 "nbformat": 4,
 "nbformat_minor": 2
}
