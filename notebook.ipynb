{
 "cells": [
  {
   "cell_type": "markdown",
   "metadata": {
    "slideshow": {
     "slide_type": "slide"
    }
   },
   "source": [
    "# Recognizing Persian Digits"
   ]
  },
  {
   "cell_type": "code",
   "execution_count": 2,
   "metadata": {
    "slideshow": {
     "slide_type": "slide"
    }
   },
   "outputs": [
    {
     "name": "stderr",
     "output_type": "stream",
     "text": [
      "Using TensorFlow backend.\n"
     ]
    }
   ],
   "source": [
    "import matplotlib.pyplot as plt\n",
    "import numpy as np\n",
    "import os\n",
    "import sys\n",
    "import tarfile\n",
    "import random\n",
    "import utils\n",
    "from PIL import Image\n",
    "from IPython.display import display\n",
    "from keras.layers import Dense\n",
    "from keras.layers import Conv2D\n",
    "from keras.layers import MaxPooling2D\n",
    "from keras.layers import AveragePooling2D\n",
    "from keras.layers import Flatten\n",
    "from keras.models import Sequential\n",
    "from keras.models import load_model\n",
    "from keras.optimizers import Adam\n",
    "from scipy import ndimage\n",
    "from __future__ import print_function\n",
    "from sklearn.linear_model import LogisticRegression\n",
    "from sklearn.model_selection import train_test_split\n",
    "from six.moves.urllib.request import urlretrieve\n",
    "from six.moves import cPickle as pickle\n",
    "%matplotlib inline"
   ]
  },
  {
   "cell_type": "code",
   "execution_count": 3,
   "metadata": {
    "slideshow": {
     "slide_type": "slide"
    }
   },
   "outputs": [],
   "source": [
    "root = './data/Digits/isolated digits/'\n",
    "prediction_root = './data/Digits/segmented digits/'\n",
    "binary_save_path = './binary_data/isolated digits/'\n",
    "model_save_path = './models/'\n",
    "num_labels= 10\n",
    "image_size = 28"
   ]
  },
  {
   "cell_type": "markdown",
   "metadata": {
    "slideshow": {
     "slide_type": "slide"
    }
   },
   "source": [
    "## Contents\n",
    "* Loading and Preprocessing \n",
    "* Model Implementation\n",
    "* Training\n",
    "* Model Evaluation\n",
    "* Prediction"
   ]
  },
  {
   "cell_type": "markdown",
   "metadata": {
    "slideshow": {
     "slide_type": "slide"
    }
   },
   "source": [
    "## Loading and Preprocessing Data"
   ]
  },
  {
   "cell_type": "markdown",
   "metadata": {
    "slideshow": {
     "slide_type": "slide"
    }
   },
   "source": [
    "First we will load and normalize data, then we resize all of the images in (28,28) size and save it to binary .npy file :"
   ]
  },
  {
   "cell_type": "code",
   "execution_count": 4,
   "metadata": {
    "slideshow": {
     "slide_type": "slide"
    }
   },
   "outputs": [
    {
     "name": "stdout",
     "output_type": "stream",
     "text": [
      "./binary_data/isolated digits/0.npy already present - Skipping pickling.\n",
      "./binary_data/isolated digits/1.npy already present - Skipping pickling.\n",
      "./binary_data/isolated digits/2.npy already present - Skipping pickling.\n",
      "./binary_data/isolated digits/3.npy already present - Skipping pickling.\n",
      "./binary_data/isolated digits/4.npy already present - Skipping pickling.\n",
      "./binary_data/isolated digits/5.npy already present - Skipping pickling.\n",
      "./binary_data/isolated digits/6.npy already present - Skipping pickling.\n",
      "./binary_data/isolated digits/7.npy already present - Skipping pickling.\n",
      "./binary_data/isolated digits/8.npy already present - Skipping pickling.\n",
      "./binary_data/isolated digits/9.npy already present - Skipping pickling.\n"
     ]
    }
   ],
   "source": [
    "data_paths = utils.maybe_save(root,binary_save_path,image_size)"
   ]
  },
  {
   "cell_type": "markdown",
   "metadata": {
    "slideshow": {
     "slide_type": "slide"
    }
   },
   "source": [
    "Checking if data is Balanced across diffrent classes : "
   ]
  },
  {
   "cell_type": "code",
   "execution_count": 5,
   "metadata": {
    "slideshow": {
     "slide_type": "slide"
    }
   },
   "outputs": [
    {
     "name": "stdout",
     "output_type": "stream",
     "text": [
      "number of images in ./binary_data/isolated digits/0.npy is equal to 975\n",
      "number of images in ./binary_data/isolated digits/1.npy is equal to 942\n",
      "number of images in ./binary_data/isolated digits/2.npy is equal to 990\n",
      "number of images in ./binary_data/isolated digits/3.npy is equal to 945\n",
      "number of images in ./binary_data/isolated digits/4.npy is equal to 958\n",
      "number of images in ./binary_data/isolated digits/5.npy is equal to 994\n",
      "number of images in ./binary_data/isolated digits/6.npy is equal to 962\n",
      "number of images in ./binary_data/isolated digits/7.npy is equal to 956\n",
      "number of images in ./binary_data/isolated digits/8.npy is equal to 982\n",
      "number of images in ./binary_data/isolated digits/9.npy is equal to 949\n"
     ]
    }
   ],
   "source": [
    "def balancingCheck(data_folder) :\n",
    "    tmpList = None\n",
    "    for i,ds in enumerate(data_folder) :\n",
    "        dataset = np.load(ds)\n",
    "        print(\"number of images in %s is equal to %s\" % (ds,len(dataset)))\n",
    "balancingCheck(data_paths)"
   ]
  },
  {
   "cell_type": "code",
   "execution_count": null,
   "metadata": {},
   "outputs": [],
   "source": []
  },
  {
   "cell_type": "markdown",
   "metadata": {
    "slideshow": {
     "slide_type": "slide"
    }
   },
   "source": [
    "As you see data is almost balanced over diffrent classes."
   ]
  },
  {
   "cell_type": "markdown",
   "metadata": {
    "slideshow": {
     "slide_type": "slide"
    }
   },
   "source": [
    "Merging and Creating Label for datasets :"
   ]
  },
  {
   "cell_type": "code",
   "execution_count": 6,
   "metadata": {
    "slideshow": {
     "slide_type": "slide"
    }
   },
   "outputs": [],
   "source": [
    "def merge_datasets(data_paths) :    \n",
    "    data = np.concatenate([np.load(path) for path in data_paths],axis=0)\n",
    "    label = np.concatenate([[path[-5]]*len(np.load(path)) for i,path in enumerate(data_paths)])\n",
    "    return data,label\n",
    "data,labels = merge_datasets(data_paths)"
   ]
  },
  {
   "cell_type": "markdown",
   "metadata": {
    "slideshow": {
     "slide_type": "slide"
    }
   },
   "source": [
    "We should shuffle data for cnn trainer :"
   ]
  },
  {
   "cell_type": "code",
   "execution_count": 7,
   "metadata": {
    "slideshow": {
     "slide_type": "slide"
    }
   },
   "outputs": [],
   "source": [
    "def randomize(dataset, labels):\n",
    "    permutation = np.random.permutation(labels.shape[0])\n",
    "    shuffled_dataset = dataset[permutation,:,:]\n",
    "    shuffled_labels = labels[permutation]\n",
    "    return shuffled_dataset, shuffled_labels\n",
    "data,labels = randomize(data,labels)"
   ]
  },
  {
   "cell_type": "markdown",
   "metadata": {
    "slideshow": {
     "slide_type": "slide"
    }
   },
   "source": [
    "We want to make sure that data still looks good :"
   ]
  },
  {
   "cell_type": "code",
   "execution_count": 8,
   "metadata": {
    "slideshow": {
     "slide_type": "slide"
    }
   },
   "outputs": [
    {
     "data": {
      "image/png": "[encoded data removed]",
      "text/plain": [
       "<matplotlib.figure.Figure at 0x16f92e594a8>"
      ]
     },
     "metadata": {},
     "output_type": "display_data"
    }
   ],
   "source": [
    "def visualize(dataset,labels,size = 10) :\n",
    "    samples = np.random.randint(len(dataset),size=size)\n",
    "    for i,sample in enumerate(samples) :\n",
    "        plt.subplot(np.ceil(np.sqrt(size)),np.floor(np.sqrt(size)),1+i)\n",
    "        plt.axis('off')\n",
    "        plt.title(labels[sample])\n",
    "        plt.imshow(dataset[sample])\n",
    "visualize(data,labels,10)"
   ]
  },
  {
   "cell_type": "code",
   "execution_count": 9,
   "metadata": {
    "slideshow": {
     "slide_type": "slide"
    }
   },
   "outputs": [],
   "source": [
    "def reformat(data,labels) :\n",
    "    data = np.array(data).reshape((-1,image_size,image_size,1)).astype(np.float32)\n",
    "    labels = (np.arange(num_labels) == labels[:,None].astype(np.float32))\n",
    "    return data,labels"
   ]
  },
  {
   "cell_type": "code",
   "execution_count": 10,
   "metadata": {
    "slideshow": {
     "slide_type": "slide"
    }
   },
   "outputs": [
    {
     "name": "stdout",
     "output_type": "stream",
     "text": [
      "shape of data : (9653, 28, 28, 1)\n",
      "shape of labels : (9653, 10)\n"
     ]
    }
   ],
   "source": [
    "data,labels = reformat(data,labels)\n",
    "print('shape of data : {}'.format(data.shape))\n",
    "print('shape of labels : {}'.format(labels.shape))"
   ]
  },
  {
   "cell_type": "code",
   "execution_count": 11,
   "metadata": {
    "slideshow": {
     "slide_type": "slide"
    }
   },
   "outputs": [],
   "source": [
    "def train_valid_test_spliter(data,labels) :\n",
    "    X_train, X_test, y_train, y_test = train_test_split(data, labels, test_size=0.2, random_state=1)\n",
    "    X_train, X_val, y_train, y_val = train_test_split(X_train, y_train, test_size=0.2, random_state=1)\n",
    "    return X_train,y_train,X_val,y_val,X_test,y_test"
   ]
  },
  {
   "cell_type": "code",
   "execution_count": 12,
   "metadata": {
    "slideshow": {
     "slide_type": "slide"
    }
   },
   "outputs": [],
   "source": [
    "X_train,y_train,X_val,y_val,X_test,y_test = train_valid_test_spliter(data,labels)"
   ]
  },
  {
   "cell_type": "code",
   "execution_count": 13,
   "metadata": {
    "slideshow": {
     "slide_type": "slide"
    }
   },
   "outputs": [
    {
     "name": "stdout",
     "output_type": "stream",
     "text": [
      "train data shape: (6177, 28, 28, 1)\n",
      "train labels shape: (6177, 28, 28, 1)\n",
      "valid data shape : (1545, 28, 28, 1)\n",
      "valid labels shape: (1545, 10)\n",
      "test data shape : (1931, 28, 28, 1)\n",
      "test labels shape: (1931, 10)\n"
     ]
    }
   ],
   "source": [
    "print('train data shape: {}'.format(X_train.shape))\n",
    "print('train labels shape: {}'.format(X_train.shape))\n",
    "print('valid data shape : {}'.format(X_val.shape))\n",
    "print('valid labels shape: {}'.format(y_val.shape))\n",
    "print('test data shape : {}'.format(X_test.shape))\n",
    "print('test labels shape: {}'.format(y_test.shape))"
   ]
  },
  {
   "cell_type": "markdown",
   "metadata": {
    "slideshow": {
     "slide_type": "slide"
    }
   },
   "source": [
    "## Model Implementation"
   ]
  },
  {
   "cell_type": "code",
   "execution_count": 14,
   "metadata": {
    "slideshow": {
     "slide_type": "slide"
    }
   },
   "outputs": [],
   "source": [
    "def conv_model(input_shape) :\n",
    "    \n",
    "    model = Sequential()\n",
    "    model.add(Conv2D(16, 5, padding='same', activation='selu', input_shape=input_shape))\n",
    "    model.add(Conv2D(16, 5, padding='same', activation='selu'))\n",
    "    model.add(Conv2D(16, 5, padding='same', activation='selu'))\n",
    "    model.add(Conv2D(16, 5, padding='same', activation='selu'))\n",
    "    model.add(Conv2D(16, 5, padding='same', activation='selu'))\n",
    "    model.add(Conv2D(16, 5, padding='same', activation='selu'))\n",
    "    model.add(Conv2D(16, 5, padding='same', activation='selu'))\n",
    "    model.add(Conv2D(16, 5, padding='same', activation='selu'))\n",
    "    model.add(MaxPooling2D())\n",
    "\n",
    "    model.add(Conv2D(32, 3, padding='same', activation='selu'))\n",
    "    model.add(Conv2D(32, 3, padding='same', activation='selu'))\n",
    "    model.add(Conv2D(32, 3, padding='same', activation='selu'))\n",
    "    model.add(Conv2D(32, 3, padding='same', activation='selu'))\n",
    "    model.add(Conv2D(32, 3, padding='same', activation='selu'))\n",
    "    model.add(Conv2D(32, 3, padding='same', activation='selu'))\n",
    "    model.add(Conv2D(32, 3, padding='same', activation='selu'))\n",
    "    model.add(Conv2D(32, 3, padding='same', activation='selu'))\n",
    "    model.add(MaxPooling2D())\n",
    "\n",
    "    model.add(Conv2D(64, 3, padding='same', activation='selu'))\n",
    "    model.add(Conv2D(64, 3, padding='same', activation='selu'))\n",
    "    model.add(Conv2D(64, 3, padding='same', activation='selu'))\n",
    "    model.add(Conv2D(64, 3, padding='same', activation='selu'))\n",
    "    model.add(Conv2D(64, 3, padding='same', activation='selu'))\n",
    "    model.add(Conv2D(64, 3, padding='same', activation='selu'))\n",
    "    model.add(Conv2D(64, 3, padding='same', activation='selu'))\n",
    "    model.add(Conv2D(64, 3, padding='same', activation='selu'))\n",
    "    model.add(AveragePooling2D())\n",
    "\n",
    "    model.add(Flatten())\n",
    "\n",
    "    model.add(Dense(1024, activation='selu'))\n",
    "    model.add(Dense(1024, activation='selu'))\n",
    "    model.add(Dense(10, activation='softmax'))\n",
    "\n",
    "    model.compile(optimizer=Adam(lr=1e-4), loss='categorical_crossentropy', metrics=['accuracy'])\n",
    "    \n",
    "    return model"
   ]
  },
  {
   "cell_type": "markdown",
   "metadata": {
    "slideshow": {
     "slide_type": "slide"
    }
   },
   "source": [
    "## Training"
   ]
  },
  {
   "cell_type": "code",
   "execution_count": 15,
   "metadata": {
    "slideshow": {
     "slide_type": "slide"
    }
   },
   "outputs": [],
   "source": [
    "def train_model(input_shape,X_train,y_train,X_val,y_val,batch_size=64,epochs=100,model_name = 'conv_model.h5') :\n",
    "    model_path = os.path.join(model_save_path,model_name)\n",
    "    if os.path.exists(model_path) :\n",
    "        print('model already exist in : {}'.format(model_path))\n",
    "        return load_model(model_path)\n",
    "    else :\n",
    "        model = conv_model(input_shape)\n",
    "        model.fit(X_train,y_train,batch_size=batch_size,epochs=epochs,validation_data=(X_val,y_val))\n",
    "        return model"
   ]
  },
  {
   "cell_type": "code",
   "execution_count": 16,
   "metadata": {
    "slideshow": {
     "slide_type": "slide"
    }
   },
   "outputs": [
    {
     "name": "stdout",
     "output_type": "stream",
     "text": [
      "model already exist in : ./models/conv_model.h5\n"
     ]
    }
   ],
   "source": [
    "model = train_model((image_size,image_size,1),X_train,y_train,\n",
    "                    X_val,y_val,64,40,'conv_model.h5')"
   ]
  },
  {
   "cell_type": "code",
   "execution_count": 23,
   "metadata": {
    "slideshow": {
     "slide_type": "subslide"
    }
   },
   "outputs": [
    {
     "name": "stdout",
     "output_type": "stream",
     "text": [
      "_________________________________________________________________\n",
      "Layer (type)                 Output Shape              Param #   \n",
      "=================================================================\n",
      "conv2d_1 (Conv2D)            (None, 28, 28, 16)        416       \n",
      "_________________________________________________________________\n",
      "conv2d_2 (Conv2D)            (None, 28, 28, 16)        6416      \n",
      "_________________________________________________________________\n",
      "conv2d_3 (Conv2D)            (None, 28, 28, 16)        6416      \n",
      "_________________________________________________________________\n",
      "conv2d_4 (Conv2D)            (None, 28, 28, 16)        6416      \n",
      "_________________________________________________________________\n",
      "conv2d_5 (Conv2D)            (None, 28, 28, 16)        6416      \n",
      "_________________________________________________________________\n",
      "conv2d_6 (Conv2D)            (None, 28, 28, 16)        6416      \n",
      "_________________________________________________________________\n",
      "conv2d_7 (Conv2D)            (None, 28, 28, 16)        6416      \n",
      "_________________________________________________________________\n",
      "conv2d_8 (Conv2D)            (None, 28, 28, 16)        6416      \n",
      "_________________________________________________________________\n",
      "max_pooling2d_1 (MaxPooling2 (None, 14, 14, 16)        0         \n",
      "_________________________________________________________________\n",
      "conv2d_9 (Conv2D)            (None, 14, 14, 32)        4640      \n",
      "_________________________________________________________________\n",
      "conv2d_10 (Conv2D)           (None, 14, 14, 32)        9248      \n",
      "_________________________________________________________________\n",
      "conv2d_11 (Conv2D)           (None, 14, 14, 32)        9248      \n",
      "_________________________________________________________________\n",
      "conv2d_12 (Conv2D)           (None, 14, 14, 32)        9248      \n",
      "_________________________________________________________________\n",
      "conv2d_13 (Conv2D)           (None, 14, 14, 32)        9248      \n",
      "_________________________________________________________________\n",
      "conv2d_14 (Conv2D)           (None, 14, 14, 32)        9248      \n",
      "_________________________________________________________________\n",
      "conv2d_15 (Conv2D)           (None, 14, 14, 32)        9248      \n",
      "_________________________________________________________________\n",
      "conv2d_16 (Conv2D)           (None, 14, 14, 32)        9248      \n",
      "_________________________________________________________________\n",
      "max_pooling2d_2 (MaxPooling2 (None, 7, 7, 32)          0         \n",
      "_________________________________________________________________\n",
      "conv2d_17 (Conv2D)           (None, 7, 7, 64)          18496     \n",
      "_________________________________________________________________\n",
      "conv2d_18 (Conv2D)           (None, 7, 7, 64)          36928     \n",
      "_________________________________________________________________\n",
      "conv2d_19 (Conv2D)           (None, 7, 7, 64)          36928     \n",
      "_________________________________________________________________\n",
      "conv2d_20 (Conv2D)           (None, 7, 7, 64)          36928     \n",
      "_________________________________________________________________\n",
      "conv2d_21 (Conv2D)           (None, 7, 7, 64)          36928     \n",
      "_________________________________________________________________\n",
      "conv2d_22 (Conv2D)           (None, 7, 7, 64)          36928     \n",
      "_________________________________________________________________\n",
      "conv2d_23 (Conv2D)           (None, 7, 7, 64)          36928     \n",
      "_________________________________________________________________\n",
      "conv2d_24 (Conv2D)           (None, 7, 7, 64)          36928     \n",
      "_________________________________________________________________\n",
      "average_pooling2d_1 (Average (None, 3, 3, 64)          0         \n",
      "_________________________________________________________________\n",
      "flatten_1 (Flatten)          (None, 576)               0         \n",
      "_________________________________________________________________\n",
      "dense_1 (Dense)              (None, 1024)              590848    \n",
      "_________________________________________________________________\n",
      "dense_2 (Dense)              (None, 1024)              1049600   \n",
      "_________________________________________________________________\n",
      "dense_3 (Dense)              (None, 10)                10250     \n",
      "=================================================================\n",
      "Total params: 2,042,394\n",
      "Trainable params: 2,042,394\n",
      "Non-trainable params: 0\n",
      "_________________________________________________________________\n"
     ]
    }
   ],
   "source": [
    "model.summary()"
   ]
  },
  {
   "cell_type": "markdown",
   "metadata": {
    "slideshow": {
     "slide_type": "slide"
    }
   },
   "source": [
    "## Model Evaluation"
   ]
  },
  {
   "cell_type": "code",
   "execution_count": 18,
   "metadata": {
    "slideshow": {
     "slide_type": "slide"
    }
   },
   "outputs": [
    {
     "name": "stdout",
     "output_type": "stream",
     "text": [
      "1931/1931 [==============================] - 2s 1ms/step\n"
     ]
    }
   ],
   "source": [
    "scores = model.evaluate(X_test,y_test)"
   ]
  },
  {
   "cell_type": "code",
   "execution_count": 26,
   "metadata": {
    "slideshow": {
     "slide_type": "slide"
    }
   },
   "outputs": [
    {
     "name": "stdout",
     "output_type": "stream",
     "text": [
      "Accuracy : %99.22320041429312\n",
      "Error : %0.7767995857068826\n"
     ]
    }
   ],
   "source": [
    "print('Accuracy : %{}'.format(scores[1]*100))\n",
    "print(\"Error : %{}\".format(100 - scores[1]*100))\n"
   ]
  },
  {
   "cell_type": "markdown",
   "metadata": {
    "slideshow": {
     "slide_type": "slide"
    }
   },
   "source": [
    "## Prediction"
   ]
  },
  {
   "cell_type": "code",
   "execution_count": 19,
   "metadata": {
    "slideshow": {
     "slide_type": "slide"
    }
   },
   "outputs": [],
   "source": [
    "def predict_image(prediction_root,image_size,model) :\n",
    "    for i,path in enumerate(os.listdir(prediction_root)):\n",
    "        photoes_path = os.path.join(prediction_root,path)\n",
    "        photoes = os.listdir(photoes_path)\n",
    "        photo_path = np.random.choice(photoes)\n",
    "        processed_image = (np.array(Image.open(os.path.join(photoes_path, photo_path)).resize((image_size,image_size))).astype(float) - \n",
    "                            255.0 / 2) / 255.0\n",
    "        photo = np.array(Image.open(os.path.join(photoes_path,photo_path)).resize((image_size,image_size))).astype(np.float)\n",
    "        plt.subplot(np.ceil(np.sqrt(10)),np.floor(np.sqrt(10)),1+i)\n",
    "        plt.axis('off')\n",
    "        plt.title(np.argmax(model.predict(processed_image.reshape(1,image_size,image_size,1))))\n",
    "        plt.imshow(photo)"
   ]
  },
  {
   "cell_type": "code",
   "execution_count": 27,
   "metadata": {
    "slideshow": {
     "slide_type": "slide"
    }
   },
   "outputs": [
    {
     "data": {
      "image/png": "[encoded data removed]",
      "text/plain": [
       "<matplotlib.figure.Figure at 0x17079da2f28>"
      ]
     },
     "metadata": {},
     "output_type": "display_data"
    }
   ],
   "source": [
    "predict_image(prediction_root,image_size,model)"
   ]
  }
 ],
 "metadata": {
  "celltoolbar": "Slideshow",
  "kernelspec": {
   "display_name": "Python 3",
   "language": "python",
   "name": "python3"
  },
  "language_info": {
   "codemirror_mode": {
    "name": "ipython",
    "version": 3
   },
   "file_extension": ".py",
   "mimetype": "text/x-python",
   "name": "python",
   "nbconvert_exporter": "python",
   "pygments_lexer": "ipython3",
   "version": "3.6.4"
  }
 },
 "nbformat": 4,
 "nbformat_minor": 2
}
