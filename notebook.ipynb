{
 "cells": [
  {
   "cell_type": "markdown",
   "metadata": {},
   "source": [
    "# Recognizing Persian Digits"
   ]
  },
  {
   "cell_type": "code",
   "execution_count": 1,
   "metadata": {},
   "outputs": [
    {
     "name": "stderr",
     "output_type": "stream",
     "text": [
      "Using TensorFlow backend.\n"
     ]
    }
   ],
   "source": [
    "import matplotlib.pyplot as plt\n",
    "import numpy as np\n",
    "import os\n",
    "import sys\n",
    "import tarfile\n",
    "import random\n",
    "import utils\n",
    "from PIL import Image\n",
    "from IPython.display import display\n",
    "from keras.layers import Dense\n",
    "from keras.layers import Conv2D\n",
    "from keras.layers import MaxPooling2D\n",
    "from keras.layers import AveragePooling2D\n",
    "from keras.layers import Flatten\n",
    "from keras.models import Sequential\n",
    "from keras.optimizers import Adam\n",
    "from scipy import ndimage\n",
    "from __future__ import print_function\n",
    "from sklearn.linear_model import LogisticRegression\n",
    "from sklearn.model_selection import train_test_split\n",
    "from six.moves.urllib.request import urlretrieve\n",
    "from six.moves import cPickle as pickle\n",
    "%matplotlib inline"
   ]
  },
  {
   "cell_type": "code",
   "execution_count": 2,
   "metadata": {},
   "outputs": [],
   "source": [
    "root = './data/Digits/isolated digits/'\n",
    "binary_save_path = './binary_data/isolated digits/'\n",
    "num_labels= 10\n",
    "image_size = 28"
   ]
  },
  {
   "cell_type": "markdown",
   "metadata": {},
   "source": [
    "## Contents\n",
    "* Loading and Preprocessing Data"
   ]
  },
  {
   "cell_type": "markdown",
   "metadata": {},
   "source": [
    "## Loading and Preprocessing Data"
   ]
  },
  {
   "cell_type": "markdown",
   "metadata": {},
   "source": [
    "First we will load and normalize data, then we resize all of the images in (28,28) size and save it to binary .npy file :"
   ]
  },
  {
   "cell_type": "code",
   "execution_count": 3,
   "metadata": {},
   "outputs": [
    {
     "name": "stdout",
     "output_type": "stream",
     "text": [
      "./binary_data/isolated digits/0.npy already present - Skipping pickling.\n",
      "./binary_data/isolated digits/1.npy already present - Skipping pickling.\n",
      "./binary_data/isolated digits/2.npy already present - Skipping pickling.\n",
      "./binary_data/isolated digits/3.npy already present - Skipping pickling.\n",
      "./binary_data/isolated digits/4.npy already present - Skipping pickling.\n",
      "./binary_data/isolated digits/5.npy already present - Skipping pickling.\n",
      "./binary_data/isolated digits/6.npy already present - Skipping pickling.\n",
      "./binary_data/isolated digits/7.npy already present - Skipping pickling.\n",
      "./binary_data/isolated digits/8.npy already present - Skipping pickling.\n",
      "./binary_data/isolated digits/9.npy already present - Skipping pickling.\n"
     ]
    }
   ],
   "source": [
    "data_paths = utils.maybe_save(root,binary_save_path,image_size)"
   ]
  },
  {
   "cell_type": "markdown",
   "metadata": {},
   "source": [
    "Checking if data is Balanced across diffrent classes : "
   ]
  },
  {
   "cell_type": "code",
   "execution_count": 4,
   "metadata": {},
   "outputs": [
    {
     "name": "stdout",
     "output_type": "stream",
     "text": [
      "number of images in ./binary_data/isolated digits/0.npy is equal to 975\n",
      "number of images in ./binary_data/isolated digits/1.npy is equal to 942\n",
      "number of images in ./binary_data/isolated digits/2.npy is equal to 990\n",
      "number of images in ./binary_data/isolated digits/3.npy is equal to 945\n",
      "number of images in ./binary_data/isolated digits/4.npy is equal to 958\n",
      "number of images in ./binary_data/isolated digits/5.npy is equal to 994\n",
      "number of images in ./binary_data/isolated digits/6.npy is equal to 962\n",
      "number of images in ./binary_data/isolated digits/7.npy is equal to 956\n",
      "number of images in ./binary_data/isolated digits/8.npy is equal to 982\n",
      "number of images in ./binary_data/isolated digits/9.npy is equal to 949\n"
     ]
    }
   ],
   "source": [
    "def balancingCheck(data_folder) :\n",
    "    tmpList = None\n",
    "    for i,ds in enumerate(data_folder) :\n",
    "        dataset = np.load(ds)\n",
    "        print(\"number of images in %s is equal to %s\" % (ds,len(dataset)))\n",
    "balancingCheck(data_paths)"
   ]
  },
  {
   "cell_type": "markdown",
   "metadata": {},
   "source": [
    "As you see data is almost balanced over diffrent classes."
   ]
  },
  {
   "cell_type": "markdown",
   "metadata": {},
   "source": [
    "Merging and Creating Label for datasets :"
   ]
  },
  {
   "cell_type": "code",
   "execution_count": 5,
   "metadata": {},
   "outputs": [],
   "source": [
    "def merge_datasets(data_paths) :    \n",
    "    data = np.concatenate([np.load(path) for path in data_paths],axis=0)\n",
    "    label = np.concatenate([[path[-5]]*len(np.load(path)) for i,path in enumerate(data_paths)])\n",
    "    return data,label\n",
    "data,labels = merge_datasets(data_paths)"
   ]
  },
  {
   "cell_type": "markdown",
   "metadata": {},
   "source": [
    "We should shuffle data for cnn trainer :"
   ]
  },
  {
   "cell_type": "code",
   "execution_count": 6,
   "metadata": {},
   "outputs": [],
   "source": [
    "def randomize(dataset, labels):\n",
    "    permutation = np.random.permutation(labels.shape[0])\n",
    "    shuffled_dataset = dataset[permutation,:,:]\n",
    "    shuffled_labels = labels[permutation]\n",
    "    return shuffled_dataset, shuffled_labels\n",
    "data,labels = randomize(data,labels)"
   ]
  },
  {
   "cell_type": "markdown",
   "metadata": {},
   "source": [
    "We want to make sure that data still looks good :"
   ]
  },
  {
   "cell_type": "code",
   "execution_count": 7,
   "metadata": {},
   "outputs": [
    {
     "data": {
      "image/png": "[encoded data removed]",
      "text/plain": [
       "<matplotlib.figure.Figure at 0x1d051a12898>"
      ]
     },
     "metadata": {},
     "output_type": "display_data"
    }
   ],
   "source": [
    "def visualize(dataset,labels,size = 10) :\n",
    "    samples = np.random.randint(len(dataset),size=size)\n",
    "    for i,sample in enumerate(samples) :\n",
    "        plt.subplot(np.ceil(np.sqrt(size)),np.floor(np.sqrt(size)),1+i)\n",
    "        plt.axis('off')\n",
    "        plt.title(labels[sample])\n",
    "        plt.imshow(dataset[sample])\n",
    "visualize(data,labels,10)"
   ]
  },
  {
   "cell_type": "code",
   "execution_count": 8,
   "metadata": {},
   "outputs": [],
   "source": [
    "def reformat(data,labels) :\n",
    "    data = np.array(data).reshape((-1,image_size,image_size,1)).astype(np.float32)\n",
    "    labels = (np.arange(num_labels) == labels[:,None].astype(np.float32))\n",
    "    return data,labels"
   ]
  },
  {
   "cell_type": "code",
   "execution_count": 9,
   "metadata": {},
   "outputs": [
    {
     "name": "stdout",
     "output_type": "stream",
     "text": [
      "shape of data : (9653, 28, 28, 1)\n",
      "shape of labels : (9653, 10)\n"
     ]
    }
   ],
   "source": [
    "data,labels = reformat(data,labels)\n",
    "print('shape of data : {}'.format(data.shape))\n",
    "print('shape of labels : {}'.format(labels.shape))"
   ]
  },
  {
   "cell_type": "code",
   "execution_count": 10,
   "metadata": {},
   "outputs": [],
   "source": [
    "def train_valid_test_spliter(data,labels) :\n",
    "    X_train, X_test, y_train, y_test = train_test_split(data, labels, test_size=0.2, random_state=1)\n",
    "    X_train, X_val, y_train, y_val = train_test_split(X_train, y_train, test_size=0.2, random_state=1)\n",
    "    return X_train,y_train,X_val,y_val,X_test,y_test"
   ]
  },
  {
   "cell_type": "code",
   "execution_count": 11,
   "metadata": {},
   "outputs": [],
   "source": [
    "X_train,y_train,X_val,y_val,X_test,y_test = train_valid_test_spliter(data,labels)"
   ]
  },
  {
   "cell_type": "code",
   "execution_count": 13,
   "metadata": {},
   "outputs": [
    {
     "name": "stdout",
     "output_type": "stream",
     "text": [
      "train data shape: (6177, 28, 28, 1)\n",
      "train labels shape: (6177, 28, 28, 1)\n",
      "valid data shape : (1545, 28, 28, 1)\n",
      "valid labels shape: (1545, 10)\n",
      "test data shape : (1931, 28, 28, 1)\n",
      "test labels shape: (1931, 10)\n"
     ]
    }
   ],
   "source": [
    "print('train data shape: {}'.format(X_train.shape))\n",
    "print('train labels shape: {}'.format(X_train.shape))\n",
    "print('valid data shape : {}'.format(X_val.shape))\n",
    "print('valid labels shape: {}'.format(y_val.shape))\n",
    "print('test data shape : {}'.format(X_test.shape))\n",
    "print('test labels shape: {}'.format(y_test.shape))"
   ]
  },
  {
   "cell_type": "code",
   "execution_count": 12,
   "metadata": {},
   "outputs": [],
   "source": [
    "def conv_model(input_shape) :\n",
    "    \n",
    "    model = Sequential()\n",
    "    model.add(Conv2D(16, 5, padding='same', activation='selu', input_shape=input_shape))\n",
    "    model.add(Conv2D(16, 5, padding='same', activation='selu'))\n",
    "    model.add(Conv2D(16, 5, padding='same', activation='selu'))\n",
    "    model.add(Conv2D(16, 5, padding='same', activation='selu'))\n",
    "    model.add(Conv2D(16, 5, padding='same', activation='selu'))\n",
    "    model.add(Conv2D(16, 5, padding='same', activation='selu'))\n",
    "    model.add(Conv2D(16, 5, padding='same', activation='selu'))\n",
    "    model.add(Conv2D(16, 5, padding='same', activation='selu'))\n",
    "    model.add(MaxPooling2D())\n",
    "\n",
    "    model.add(Conv2D(32, 3, padding='same', activation='selu'))\n",
    "    model.add(Conv2D(32, 3, padding='same', activation='selu'))\n",
    "    model.add(Conv2D(32, 3, padding='same', activation='selu'))\n",
    "    model.add(Conv2D(32, 3, padding='same', activation='selu'))\n",
    "    model.add(Conv2D(32, 3, padding='same', activation='selu'))\n",
    "    model.add(Conv2D(32, 3, padding='same', activation='selu'))\n",
    "    model.add(Conv2D(32, 3, padding='same', activation='selu'))\n",
    "    model.add(Conv2D(32, 3, padding='same', activation='selu'))\n",
    "    model.add(MaxPooling2D())\n",
    "\n",
    "    model.add(Conv2D(64, 3, padding='same', activation='selu'))\n",
    "    model.add(Conv2D(64, 3, padding='same', activation='selu'))\n",
    "    model.add(Conv2D(64, 3, padding='same', activation='selu'))\n",
    "    model.add(Conv2D(64, 3, padding='same', activation='selu'))\n",
    "    model.add(Conv2D(64, 3, padding='same', activation='selu'))\n",
    "    model.add(Conv2D(64, 3, padding='same', activation='selu'))\n",
    "    model.add(Conv2D(64, 3, padding='same', activation='selu'))\n",
    "    model.add(Conv2D(64, 3, padding='same', activation='selu'))\n",
    "    model.add(AveragePooling2D())\n",
    "\n",
    "    model.add(Flatten())\n",
    "\n",
    "    model.add(Dense(1024, activation='selu'))\n",
    "    model.add(Dense(1024, activation='selu'))\n",
    "    model.add(Dense(10, activation='softmax'))\n",
    "\n",
    "    model.compile(optimizer=Adam(lr=1e-4), loss='categorical_crossentropy', metrics=['accuracy'])\n",
    "    \n",
    "    return model"
   ]
  },
  {
   "cell_type": "code",
   "execution_count": 14,
   "metadata": {},
   "outputs": [
    {
     "name": "stdout",
     "output_type": "stream",
     "text": [
      "Train on 6177 samples, validate on 1545 samples\n",
      "Epoch 1/100\n",
      "6177/6177 [==============================] - 12s 2ms/step - loss: 0.6164 - acc: 0.7983 - val_loss: 0.2009 - val_acc: 0.9340\n",
      "Epoch 2/100\n",
      "6177/6177 [==============================] - 7s 1ms/step - loss: 0.1638 - acc: 0.9488 - val_loss: 0.1155 - val_acc: 0.9683\n",
      "Epoch 3/100\n",
      "6177/6177 [==============================] - 7s 1ms/step - loss: 0.1143 - acc: 0.9634 - val_loss: 0.1589 - val_acc: 0.9463\n",
      "Epoch 4/100\n",
      "6177/6177 [==============================] - 7s 1ms/step - loss: 0.0774 - acc: 0.9768 - val_loss: 0.1689 - val_acc: 0.9489\n",
      "Epoch 5/100\n",
      "6177/6177 [==============================] - 7s 1ms/step - loss: 0.0682 - acc: 0.9777 - val_loss: 0.1023 - val_acc: 0.9696\n",
      "Epoch 6/100\n",
      "6177/6177 [==============================] - 7s 1ms/step - loss: 0.0511 - acc: 0.9830 - val_loss: 0.0935 - val_acc: 0.9761\n",
      "Epoch 7/100\n",
      "6177/6177 [==============================] - 7s 1ms/step - loss: 0.0254 - acc: 0.9934 - val_loss: 0.0788 - val_acc: 0.9748\n",
      "Epoch 8/100\n",
      "6177/6177 [==============================] - 7s 1ms/step - loss: 0.0243 - acc: 0.9913 - val_loss: 0.0892 - val_acc: 0.9748\n",
      "Epoch 9/100\n",
      "6177/6177 [==============================] - 7s 1ms/step - loss: 0.0170 - acc: 0.9947 - val_loss: 0.0738 - val_acc: 0.9806\n",
      "Epoch 10/100\n",
      "6177/6177 [==============================] - 7s 1ms/step - loss: 0.0062 - acc: 0.9985 - val_loss: 0.0629 - val_acc: 0.9812\n",
      "Epoch 11/100\n",
      "6177/6177 [==============================] - 7s 1ms/step - loss: 0.0055 - acc: 0.9985 - val_loss: 0.0676 - val_acc: 0.9806\n",
      "Epoch 12/100\n",
      "6177/6177 [==============================] - 7s 1ms/step - loss: 0.0043 - acc: 0.9990 - val_loss: 0.0669 - val_acc: 0.9793\n",
      "Epoch 13/100\n",
      "6177/6177 [==============================] - 7s 1ms/step - loss: 0.0014 - acc: 0.9998 - val_loss: 0.0580 - val_acc: 0.9819\n",
      "Epoch 14/100\n",
      "6177/6177 [==============================] - 7s 1ms/step - loss: 0.0017 - acc: 0.9997 - val_loss: 0.0684 - val_acc: 0.9812\n",
      "Epoch 15/100\n",
      "6177/6177 [==============================] - 7s 1ms/step - loss: 0.0429 - acc: 0.9866 - val_loss: 0.1207 - val_acc: 0.9689\n",
      "Epoch 16/100\n",
      "6177/6177 [==============================] - 7s 1ms/step - loss: 0.0893 - acc: 0.9720 - val_loss: 0.1747 - val_acc: 0.9560\n",
      "Epoch 17/100\n",
      "6177/6177 [==============================] - 7s 1ms/step - loss: 0.0650 - acc: 0.9807 - val_loss: 0.1406 - val_acc: 0.9670\n",
      "Epoch 18/100\n",
      "6177/6177 [==============================] - 6s 1ms/step - loss: 0.0343 - acc: 0.9880 - val_loss: 0.0997 - val_acc: 0.9741\n",
      "Epoch 19/100\n",
      "6177/6177 [==============================] - 7s 1ms/step - loss: 0.0151 - acc: 0.9940 - val_loss: 0.1059 - val_acc: 0.9748\n",
      "Epoch 20/100\n",
      "6177/6177 [==============================] - 7s 1ms/step - loss: 0.0077 - acc: 0.9971 - val_loss: 0.0889 - val_acc: 0.9793\n",
      "Epoch 21/100\n",
      "6177/6177 [==============================] - 7s 1ms/step - loss: 9.1720e-04 - acc: 0.9998 - val_loss: 0.0743 - val_acc: 0.9838\n",
      "Epoch 22/100\n",
      "6177/6177 [==============================] - 6s 1ms/step - loss: 1.6532e-04 - acc: 1.0000 - val_loss: 0.0731 - val_acc: 0.9832\n",
      "Epoch 23/100\n",
      "6177/6177 [==============================] - 6s 1ms/step - loss: 1.0093e-04 - acc: 1.0000 - val_loss: 0.0703 - val_acc: 0.9851\n",
      "Epoch 24/100\n",
      "6177/6177 [==============================] - 7s 1ms/step - loss: 7.4536e-05 - acc: 1.0000 - val_loss: 0.0696 - val_acc: 0.9851\n",
      "Epoch 25/100\n",
      "6177/6177 [==============================] - 7s 1ms/step - loss: 6.5208e-05 - acc: 1.0000 - val_loss: 0.0692 - val_acc: 0.9845\n",
      "Epoch 26/100\n",
      "6177/6177 [==============================] - 6s 1ms/step - loss: 5.8725e-05 - acc: 1.0000 - val_loss: 0.0690 - val_acc: 0.9851\n",
      "Epoch 27/100\n",
      "6177/6177 [==============================] - 6s 1ms/step - loss: 5.3630e-05 - acc: 1.0000 - val_loss: 0.0685 - val_acc: 0.9858\n",
      "Epoch 28/100\n",
      "6177/6177 [==============================] - 6s 1ms/step - loss: 4.9673e-05 - acc: 1.0000 - val_loss: 0.0684 - val_acc: 0.9858\n",
      "Epoch 29/100\n",
      "6177/6177 [==============================] - 6s 1ms/step - loss: 4.6071e-05 - acc: 1.0000 - val_loss: 0.0685 - val_acc: 0.9858\n",
      "Epoch 30/100\n",
      "6177/6177 [==============================] - 6s 1ms/step - loss: 4.2973e-05 - acc: 1.0000 - val_loss: 0.0685 - val_acc: 0.9858\n",
      "Epoch 31/100\n",
      "6177/6177 [==============================] - 6s 1ms/step - loss: 4.0235e-05 - acc: 1.0000 - val_loss: 0.0685 - val_acc: 0.9858\n",
      "Epoch 32/100\n",
      "6177/6177 [==============================] - 6s 1ms/step - loss: 3.7779e-05 - acc: 1.0000 - val_loss: 0.0683 - val_acc: 0.9858\n",
      "Epoch 33/100\n",
      "6177/6177 [==============================] - 6s 1ms/step - loss: 3.5680e-05 - acc: 1.0000 - val_loss: 0.0683 - val_acc: 0.9858\n",
      "Epoch 34/100\n",
      "6177/6177 [==============================] - 6s 1ms/step - loss: 3.3670e-05 - acc: 1.0000 - val_loss: 0.0683 - val_acc: 0.9858\n",
      "Epoch 35/100\n",
      "6177/6177 [==============================] - 7s 1ms/step - loss: 3.1833e-05 - acc: 1.0000 - val_loss: 0.0684 - val_acc: 0.9858\n",
      "Epoch 36/100\n",
      "6177/6177 [==============================] - 6s 1ms/step - loss: 3.0155e-05 - acc: 1.0000 - val_loss: 0.0685 - val_acc: 0.9858\n",
      "Epoch 37/100\n",
      "6177/6177 [==============================] - 7s 1ms/step - loss: 2.8576e-05 - acc: 1.0000 - val_loss: 0.0683 - val_acc: 0.9858\n",
      "Epoch 38/100\n",
      "6177/6177 [==============================] - 6s 1ms/step - loss: 2.7084e-05 - acc: 1.0000 - val_loss: 0.0684 - val_acc: 0.9858\n",
      "Epoch 39/100\n",
      "6177/6177 [==============================] - 7s 1ms/step - loss: 2.5780e-05 - acc: 1.0000 - val_loss: 0.0685 - val_acc: 0.9864\n",
      "Epoch 40/100\n",
      "6177/6177 [==============================] - 6s 1ms/step - loss: 2.4675e-05 - acc: 1.0000 - val_loss: 0.0685 - val_acc: 0.9871\n",
      "Epoch 41/100\n",
      "6177/6177 [==============================] - 7s 1ms/step - loss: 2.3417e-05 - acc: 1.0000 - val_loss: 0.0685 - val_acc: 0.9871\n",
      "Epoch 42/100\n",
      "6177/6177 [==============================] - 6s 1ms/step - loss: 2.2249e-05 - acc: 1.0000 - val_loss: 0.0685 - val_acc: 0.9871\n",
      "Epoch 43/100\n",
      "6177/6177 [==============================] - 6s 1ms/step - loss: 2.1221e-05 - acc: 1.0000 - val_loss: 0.0685 - val_acc: 0.9871\n",
      "Epoch 44/100\n",
      "6177/6177 [==============================] - 6s 1ms/step - loss: 2.0242e-05 - acc: 1.0000 - val_loss: 0.0685 - val_acc: 0.9871\n",
      "Epoch 45/100\n",
      "6177/6177 [==============================] - 6s 1ms/step - loss: 1.9345e-05 - acc: 1.0000 - val_loss: 0.0686 - val_acc: 0.9871\n",
      "Epoch 46/100\n",
      "6177/6177 [==============================] - 6s 1ms/step - loss: 1.8505e-05 - acc: 1.0000 - val_loss: 0.0688 - val_acc: 0.9871\n",
      "Epoch 47/100\n",
      "6177/6177 [==============================] - 6s 1ms/step - loss: 1.7716e-05 - acc: 1.0000 - val_loss: 0.0688 - val_acc: 0.9871\n",
      "Epoch 48/100\n",
      "6177/6177 [==============================] - 6s 1ms/step - loss: 1.6778e-05 - acc: 1.0000 - val_loss: 0.0688 - val_acc: 0.9871\n",
      "Epoch 49/100\n",
      "6177/6177 [==============================] - 6s 1ms/step - loss: 1.6101e-05 - acc: 1.0000 - val_loss: 0.0689 - val_acc: 0.9871\n",
      "Epoch 50/100\n",
      "6177/6177 [==============================] - 6s 1ms/step - loss: 1.5373e-05 - acc: 1.0000 - val_loss: 0.0689 - val_acc: 0.9871\n",
      "Epoch 51/100\n",
      "6177/6177 [==============================] - 6s 1ms/step - loss: 1.4711e-05 - acc: 1.0000 - val_loss: 0.0690 - val_acc: 0.9871\n",
      "Epoch 52/100\n",
      "6177/6177 [==============================] - 7s 1ms/step - loss: 1.4039e-05 - acc: 1.0000 - val_loss: 0.0691 - val_acc: 0.9871\n",
      "Epoch 53/100\n",
      "6177/6177 [==============================] - 7s 1ms/step - loss: 1.3427e-05 - acc: 1.0000 - val_loss: 0.0690 - val_acc: 0.9871\n",
      "Epoch 54/100\n",
      "6177/6177 [==============================] - 6s 1ms/step - loss: 1.2846e-05 - acc: 1.0000 - val_loss: 0.0692 - val_acc: 0.9871\n",
      "Epoch 55/100\n",
      "6177/6177 [==============================] - 6s 1ms/step - loss: 1.2302e-05 - acc: 1.0000 - val_loss: 0.0692 - val_acc: 0.9871\n",
      "Epoch 56/100\n",
      "6177/6177 [==============================] - 6s 1ms/step - loss: 1.1782e-05 - acc: 1.0000 - val_loss: 0.0694 - val_acc: 0.9871\n",
      "Epoch 57/100\n",
      "6177/6177 [==============================] - 6s 1ms/step - loss: 1.1322e-05 - acc: 1.0000 - val_loss: 0.0693 - val_acc: 0.9871\n",
      "Epoch 58/100\n",
      "6177/6177 [==============================] - 6s 1ms/step - loss: 1.0773e-05 - acc: 1.0000 - val_loss: 0.0695 - val_acc: 0.9871\n",
      "Epoch 59/100\n",
      "6177/6177 [==============================] - 6s 1ms/step - loss: 1.0327e-05 - acc: 1.0000 - val_loss: 0.0695 - val_acc: 0.9871\n"
     ]
    },
    {
     "name": "stdout",
     "output_type": "stream",
     "text": [
      "Epoch 60/100\n",
      "6177/6177 [==============================] - 7s 1ms/step - loss: 9.8853e-06 - acc: 1.0000 - val_loss: 0.0695 - val_acc: 0.9871\n",
      "Epoch 61/100\n",
      "6177/6177 [==============================] - 7s 1ms/step - loss: 9.4836e-06 - acc: 1.0000 - val_loss: 0.0697 - val_acc: 0.9871\n",
      "Epoch 62/100\n",
      "6177/6177 [==============================] - 6s 1ms/step - loss: 9.0378e-06 - acc: 1.0000 - val_loss: 0.0695 - val_acc: 0.9877\n",
      "Epoch 63/100\n",
      "6177/6177 [==============================] - 6s 1ms/step - loss: 8.6723e-06 - acc: 1.0000 - val_loss: 0.0696 - val_acc: 0.9877\n",
      "Epoch 64/100\n",
      "6177/6177 [==============================] - 7s 1ms/step - loss: 8.3088e-06 - acc: 1.0000 - val_loss: 0.0698 - val_acc: 0.9877\n",
      "Epoch 65/100\n",
      "6177/6177 [==============================] - 6s 1ms/step - loss: 7.9593e-06 - acc: 1.0000 - val_loss: 0.0698 - val_acc: 0.9877\n",
      "Epoch 66/100\n",
      "6177/6177 [==============================] - 6s 1ms/step - loss: 7.6211e-06 - acc: 1.0000 - val_loss: 0.0700 - val_acc: 0.9877\n",
      "Epoch 67/100\n",
      "6177/6177 [==============================] - 6s 1ms/step - loss: 7.2869e-06 - acc: 1.0000 - val_loss: 0.0700 - val_acc: 0.9877\n",
      "Epoch 68/100\n",
      "6177/6177 [==============================] - 6s 1ms/step - loss: 6.9761e-06 - acc: 1.0000 - val_loss: 0.0702 - val_acc: 0.9877\n",
      "Epoch 69/100\n",
      "6177/6177 [==============================] - 6s 1ms/step - loss: 6.6855e-06 - acc: 1.0000 - val_loss: 0.0702 - val_acc: 0.9877\n",
      "Epoch 70/100\n",
      "6177/6177 [==============================] - 6s 1ms/step - loss: 6.3926e-06 - acc: 1.0000 - val_loss: 0.0702 - val_acc: 0.9877\n",
      "Epoch 71/100\n",
      "6177/6177 [==============================] - 6s 1ms/step - loss: 6.1209e-06 - acc: 1.0000 - val_loss: 0.0704 - val_acc: 0.9877\n",
      "Epoch 72/100\n",
      "6177/6177 [==============================] - 6s 1ms/step - loss: 5.8553e-06 - acc: 1.0000 - val_loss: 0.0704 - val_acc: 0.9877\n",
      "Epoch 73/100\n",
      "6177/6177 [==============================] - 6s 1ms/step - loss: 5.5960e-06 - acc: 1.0000 - val_loss: 0.0705 - val_acc: 0.9877\n",
      "Epoch 74/100\n",
      "6177/6177 [==============================] - 6s 1ms/step - loss: 5.3687e-06 - acc: 1.0000 - val_loss: 0.0705 - val_acc: 0.9877\n",
      "Epoch 75/100\n",
      "6177/6177 [==============================] - 6s 1ms/step - loss: 5.1403e-06 - acc: 1.0000 - val_loss: 0.0708 - val_acc: 0.9877\n",
      "Epoch 76/100\n",
      "6177/6177 [==============================] - 6s 1ms/step - loss: 4.9120e-06 - acc: 1.0000 - val_loss: 0.0710 - val_acc: 0.9877\n",
      "Epoch 77/100\n",
      "6177/6177 [==============================] - 7s 1ms/step - loss: 4.6920e-06 - acc: 1.0000 - val_loss: 0.0709 - val_acc: 0.9877\n",
      "Epoch 78/100\n",
      "6177/6177 [==============================] - 6s 1ms/step - loss: 4.5000e-06 - acc: 1.0000 - val_loss: 0.0708 - val_acc: 0.9877\n",
      "Epoch 79/100\n",
      "6177/6177 [==============================] - 6s 1ms/step - loss: 4.3049e-06 - acc: 1.0000 - val_loss: 0.0711 - val_acc: 0.9877\n",
      "Epoch 80/100\n",
      "6177/6177 [==============================] - 6s 1ms/step - loss: 4.1269e-06 - acc: 1.0000 - val_loss: 0.0711 - val_acc: 0.9877\n",
      "Epoch 81/100\n",
      "6177/6177 [==============================] - 6s 1ms/step - loss: 3.9512e-06 - acc: 1.0000 - val_loss: 0.0715 - val_acc: 0.9877\n",
      "Epoch 82/100\n",
      "6177/6177 [==============================] - 6s 1ms/step - loss: 3.7617e-06 - acc: 1.0000 - val_loss: 0.0717 - val_acc: 0.9877\n",
      "Epoch 83/100\n",
      "6177/6177 [==============================] - 6s 1ms/step - loss: 3.6018e-06 - acc: 1.0000 - val_loss: 0.0716 - val_acc: 0.9877\n",
      "Epoch 84/100\n",
      "6177/6177 [==============================] - 7s 1ms/step - loss: 3.4524e-06 - acc: 1.0000 - val_loss: 0.0717 - val_acc: 0.9877\n",
      "Epoch 85/100\n",
      "6177/6177 [==============================] - 7s 1ms/step - loss: 3.3079e-06 - acc: 1.0000 - val_loss: 0.0718 - val_acc: 0.9877\n",
      "Epoch 86/100\n",
      "6177/6177 [==============================] - 6s 1ms/step - loss: 3.1565e-06 - acc: 1.0000 - val_loss: 0.0718 - val_acc: 0.9877\n",
      "Epoch 87/100\n",
      "6177/6177 [==============================] - 7s 1ms/step - loss: 3.0141e-06 - acc: 1.0000 - val_loss: 0.0720 - val_acc: 0.9877\n",
      "Epoch 88/100\n",
      "6177/6177 [==============================] - 6s 1ms/step - loss: 2.8864e-06 - acc: 1.0000 - val_loss: 0.0723 - val_acc: 0.9877\n",
      "Epoch 89/100\n",
      "6177/6177 [==============================] - 8s 1ms/step - loss: 2.7574e-06 - acc: 1.0000 - val_loss: 0.0723 - val_acc: 0.9877\n",
      "Epoch 90/100\n",
      "6177/6177 [==============================] - 6s 1ms/step - loss: 2.6421e-06 - acc: 1.0000 - val_loss: 0.0724 - val_acc: 0.9877\n",
      "Epoch 91/100\n",
      "6177/6177 [==============================] - 6s 1ms/step - loss: 2.5183e-06 - acc: 1.0000 - val_loss: 0.0726 - val_acc: 0.9877\n",
      "Epoch 92/100\n",
      "6177/6177 [==============================] - 6s 1ms/step - loss: 2.4317e-06 - acc: 1.0000 - val_loss: 0.0728 - val_acc: 0.9877\n",
      "Epoch 93/100\n",
      "6177/6177 [==============================] - 6s 1ms/step - loss: 2.3163e-06 - acc: 1.0000 - val_loss: 0.0730 - val_acc: 0.9877\n",
      "Epoch 94/100\n",
      "6177/6177 [==============================] - 6s 1ms/step - loss: 2.2145e-06 - acc: 1.0000 - val_loss: 0.0731 - val_acc: 0.9877\n",
      "Epoch 95/100\n",
      "6177/6177 [==============================] - 6s 1ms/step - loss: 2.1201e-06 - acc: 1.0000 - val_loss: 0.0731 - val_acc: 0.9877\n",
      "Epoch 96/100\n",
      "6177/6177 [==============================] - 6s 1ms/step - loss: 2.0229e-06 - acc: 1.0000 - val_loss: 0.0731 - val_acc: 0.9877\n",
      "Epoch 97/100\n",
      "6177/6177 [==============================] - 6s 1ms/step - loss: 1.9405e-06 - acc: 1.0000 - val_loss: 0.0734 - val_acc: 0.9877\n",
      "Epoch 98/100\n",
      "6177/6177 [==============================] - 6s 1ms/step - loss: 1.8524e-06 - acc: 1.0000 - val_loss: 0.0736 - val_acc: 0.9877\n",
      "Epoch 99/100\n",
      "6177/6177 [==============================] - 6s 1ms/step - loss: 1.7723e-06 - acc: 1.0000 - val_loss: 0.0737 - val_acc: 0.9877\n",
      "Epoch 100/100\n",
      "6177/6177 [==============================] - 6s 1ms/step - loss: 1.6957e-06 - acc: 1.0000 - val_loss: 0.0739 - val_acc: 0.9877\n"
     ]
    },
    {
     "data": {
      "text/plain": [
       "<keras.callbacks.History at 0x1d05f0f87b8>"
      ]
     },
     "execution_count": 14,
     "metadata": {},
     "output_type": "execute_result"
    }
   ],
   "source": [
    "model = conv_model((image_size,image_size,1))\n",
    "model.fit(X_train,y_train,batch_size=64,epochs=100,validation_data=(X_val,y_val))"
   ]
  },
  {
   "cell_type": "code",
   "execution_count": 15,
   "metadata": {},
   "outputs": [
    {
     "name": "stdout",
     "output_type": "stream",
     "text": [
      "1931/1931 [==============================] - 1s 377us/step\n"
     ]
    }
   ],
   "source": [
    "scores = model.evaluate(X_test,y_test)"
   ]
  },
  {
   "cell_type": "code",
   "execution_count": 18,
   "metadata": {},
   "outputs": [
    {
     "name": "stdout",
     "output_type": "stream",
     "text": [
      "Accuracy : %98.86069394096323\n",
      "Error : %1.1393060590367696\n"
     ]
    }
   ],
   "source": [
    "print(\"Accuracy : %{}\".format(scores[1]*100))\n",
    "print(\"Error : %{}\".format(100 - scores[1]*100))"
   ]
  }
 ],
 "metadata": {
  "kernelspec": {
   "display_name": "Python 3",
   "language": "python",
   "name": "python3"
  },
  "language_info": {
   "codemirror_mode": {
    "name": "ipython",
    "version": 3
   },
   "file_extension": ".py",
   "mimetype": "text/x-python",
   "name": "python",
   "nbconvert_exporter": "python",
   "pygments_lexer": "ipython3",
   "version": "3.6.4"
  }
 },
 "nbformat": 4,
 "nbformat_minor": 2
}
